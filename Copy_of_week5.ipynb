{
  "nbformat": 4,
  "nbformat_minor": 0,
  "metadata": {
    "colab": {
      "provenance": [],
      "include_colab_link": true
    },
    "kernelspec": {
      "name": "python3",
      "display_name": "Python 3"
    },
    "language_info": {
      "name": "python"
    }
  },
  "cells": [
    {
      "cell_type": "markdown",
      "metadata": {
        "id": "view-in-github",
        "colab_type": "text"
      },
      "source": [
        "<a href=\"https://colab.research.google.com/github/ace2884/mlds-lab/blob/main/Copy_of_week5.ipynb\" target=\"_parent\"><img src=\"https://colab.research.google.com/assets/colab-badge.svg\" alt=\"Open In Colab\"/></a>"
      ]
    },
    {
      "cell_type": "code",
      "execution_count": null,
      "metadata": {
        "id": "f-nm41POfldg"
      },
      "outputs": [],
      "source": [
        "from sklearn.model_selection import train_test_split\n",
        "from sklearn.neighbors import KNeighborsClassifier\n",
        "from sklearn import datasets\n",
        "import pandas as pd\n",
        "import numpy as np\n"
      ]
    },
    {
      "cell_type": "code",
      "source": [
        "#Load dataset\n",
        "iris=datasets.load_iris()\n",
        "print(\"Iris Data set loaded...\")"
      ],
      "metadata": {
        "colab": {
          "base_uri": "https://localhost:8080/"
        },
        "id": "cAviDAMXggGs",
        "outputId": "4697b1d5-e451-444d-bf71-5435ac0a3d83"
      },
      "execution_count": null,
      "outputs": [
        {
          "output_type": "stream",
          "name": "stdout",
          "text": [
            "Iris Data set loaded...\n"
          ]
        }
      ]
    },
    {
      "cell_type": "code",
      "source": [
        "#Split the data into train and test samples\n",
        "x_train,x_test,y_train,y_test = train_test_split(iris.data,iris.target,test_size=0.1)\n",
        "print(\"Dataset is split into training and testing...\")\n",
        "print(\"Size of training data and its label\",x_train.shape,y_train.shape)\n",
        "print(\"Size of training data and its label\",x_test.shape,y_test.shape)\n",
        "\n",
        "\n",
        "# prints Label no. and their names\n",
        "for i in range(len(iris.target_names)):\n",
        "  print(\"Label\", i , \"-\",str(iris.target_names[i]))\n",
        "  #create object of KNN classifer\n",
        "classifer = KNeighborsClassifier(n_neighbors=1)\n",
        "\n",
        "\n",
        "#perform Training\n",
        "classifer.fit(x_train, y_train)#perform teating\n",
        "y_pred=classifer.predict(x_test)\n",
        "\n",
        "\n",
        "\n",
        "#Display the results\n",
        "print(\"Results of Classification using K-nn with K=1\")\n",
        "for r in range(0,len(x_test)):\n",
        "  print(\" sample:\", str(x_test[r]), \" Actual-label:\",str(y_test[r]), \" predict-label:\", str(y_pred[r]))\n",
        "print(\"Classification Accuracy :\" , classifer.score(x_test,y_test))"
      ],
      "metadata": {
        "colab": {
          "base_uri": "https://localhost:8080/"
        },
        "id": "Ddj862gWgubb",
        "outputId": "fc2b42bd-1ad9-495a-c8f1-1c6eedfcf43c"
      },
      "execution_count": null,
      "outputs": [
        {
          "output_type": "stream",
          "name": "stdout",
          "text": [
            "Dataset is split into training and testing...\n",
            "Size of training data and its label (135, 4) (135,)\n",
            "Size of training data and its label (15, 4) (15,)\n",
            "Label 0 - setosa\n",
            "Label 1 - versicolor\n",
            "Label 2 - virginica\n",
            "Results of Classification using K-nn with K=1\n",
            " sample: [4.8 3.4 1.6 0.2]  Actual-label: 0  predict-label: 0\n",
            " sample: [4.7 3.2 1.6 0.2]  Actual-label: 0  predict-label: 0\n",
            " sample: [5.8 2.7 5.1 1.9]  Actual-label: 2  predict-label: 2\n",
            " sample: [6.  2.7 5.1 1.6]  Actual-label: 1  predict-label: 2\n",
            " sample: [7.7 2.8 6.7 2. ]  Actual-label: 2  predict-label: 2\n",
            " sample: [7.  3.2 4.7 1.4]  Actual-label: 1  predict-label: 1\n",
            " sample: [6.2 2.8 4.8 1.8]  Actual-label: 2  predict-label: 2\n",
            " sample: [4.6 3.4 1.4 0.3]  Actual-label: 0  predict-label: 0\n",
            " sample: [4.9 3.  1.4 0.2]  Actual-label: 0  predict-label: 0\n",
            " sample: [7.7 2.6 6.9 2.3]  Actual-label: 2  predict-label: 2\n",
            " sample: [6.2 2.2 4.5 1.5]  Actual-label: 1  predict-label: 1\n",
            " sample: [6.7 3.  5.2 2.3]  Actual-label: 2  predict-label: 2\n",
            " sample: [4.9 3.6 1.4 0.1]  Actual-label: 0  predict-label: 0\n",
            " sample: [4.8 3.4 1.9 0.2]  Actual-label: 0  predict-label: 0\n",
            " sample: [6.4 3.2 4.5 1.5]  Actual-label: 1  predict-label: 1\n",
            "Classification Accuracy : 0.9333333333333333\n"
          ]
        }
      ]
    },
    {
      "cell_type": "code",
      "source": [
        "from sklearn.metrics import classification_report, confusion_matrix\n",
        "print('Confusion Matrix')\n",
        "print(confusion_matrix(y_test,y_pred))\n",
        "print('Accuracy Ketrics')\n",
        "print(classification_report(y_test,y_pred))\n"
      ],
      "metadata": {
        "colab": {
          "base_uri": "https://localhost:8080/"
        },
        "id": "G_PsgxUKg7St",
        "outputId": "ba28f022-a825-40f2-f154-dbe2f37227a4"
      },
      "execution_count": null,
      "outputs": [
        {
          "output_type": "stream",
          "name": "stdout",
          "text": [
            "Confusion Matrix\n",
            "[[6 0 0]\n",
            " [0 3 1]\n",
            " [0 0 5]]\n",
            "Accuracy Ketrics\n",
            "              precision    recall  f1-score   support\n",
            "\n",
            "           0       1.00      1.00      1.00         6\n",
            "           1       1.00      0.75      0.86         4\n",
            "           2       0.83      1.00      0.91         5\n",
            "\n",
            "    accuracy                           0.93        15\n",
            "   macro avg       0.94      0.92      0.92        15\n",
            "weighted avg       0.94      0.93      0.93        15\n",
            "\n"
          ]
        }
      ]
    }
  ]
}